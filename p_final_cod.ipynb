{
  "cells": [
    {
      "cell_type": "markdown",
      "metadata": {
        "id": "view-in-github",
        "colab_type": "text"
      },
      "source": [
        "<a href=\"https://colab.research.google.com/github/Rauloigs/Tasa_Ocupacional-Prediccion/blob/main/p_final_cod.ipynb\" target=\"_parent\"><img src=\"https://colab.research.google.com/assets/colab-badge.svg\" alt=\"Open In Colab\"/></a>"
      ]
    },
    {
      "cell_type": "markdown",
      "id": "a136d011",
      "metadata": {
        "id": "a136d011"
      },
      "source": [
        "## 1. Selección de la Serie Temporal\n",
        "- Elige una serie temporal de datos macroeconómicos de tu interés, que puede ser de México o de cualquier otra región internacional. Algunos ejemplos incluyen el PIB, tasas de inflación, tasas de interés, tipos de cambio, entre otros.\n",
        "- Asegúrate de que los datos sean de frecuencia mensual, trimestral o anual y que cubran un periodo suficientemente largo para hacer predicciones fiables.\n",
        "\n",
        "## 2. Preparación de los Datos:\n",
        "- Importa la serie temporal seleccionada a tu herramienta de análisis (por ejemplo, R, Python, Excel).\n",
        "- Realiza la limpieza de los datos, asegurándote de que no haya valores faltantes, valores atípicos, o problemas de formato.\n",
        "- Si es necesario, ajusta los datos para la estacionalidad y asegúrate de que la serie esté bien preparada para el análisis."
      ]
    },
    {
      "cell_type": "code",
      "execution_count": null,
      "id": "0ec1f2c0",
      "metadata": {
        "id": "0ec1f2c0"
      },
      "outputs": [],
      "source": [
        "import pandas as pd\n",
        "import numpy as np\n",
        "import statsmodels\n",
        "# import pydlm\n",
        "from statsmodels.tsa.seasonal import seasonal_decompose\n",
        "import matplotlib.pyplot as plt\n",
        "from statsmodels.graphics.tsaplots import plot_acf, plot_pacf\n",
        "from statsmodels.tsa.statespace.sarimax import SARIMAX\n",
        "import statsmodels.api as sm\n",
        "from statsmodels.tsa.statespace.structural import UnobservedComponents\n",
        "from sklearn.metrics import mean_squared_error"
      ]
    },
    {
      "cell_type": "code",
      "execution_count": null,
      "id": "6e026adf",
      "metadata": {
        "id": "6e026adf",
        "outputId": "e618c838-f44a-4bbc-9472-a718c89834cc"
      },
      "outputs": [
        {
          "name": "stdout",
          "output_type": "stream",
          "text": [
            "(132, 2)\n",
            "tasa_ocupacion       0\n",
            "index_actividad_e    0\n",
            "dtype: int64\n"
          ]
        },
        {
          "name": "stderr",
          "output_type": "stream",
          "text": [
            "/var/folders/zt/6jpq2rmj2jv94tj8xth5tqzr0000gn/T/ipykernel_1984/2898772105.py:2: UserWarning: Could not infer format, so each element will be parsed individually, falling back to `dateutil`. To ensure parsing is consistent and as-expected, please specify a format.\n",
            "  indic = pd.read_csv(file_path, header=0, index_col=0,\n"
          ]
        },
        {
          "data": {
            "text/html": [
              "<div>\n",
              "<style scoped>\n",
              "    .dataframe tbody tr th:only-of-type {\n",
              "        vertical-align: middle;\n",
              "    }\n",
              "\n",
              "    .dataframe tbody tr th {\n",
              "        vertical-align: top;\n",
              "    }\n",
              "\n",
              "    .dataframe thead th {\n",
              "        text-align: right;\n",
              "    }\n",
              "</style>\n",
              "<table border=\"1\" class=\"dataframe\">\n",
              "  <thead>\n",
              "    <tr style=\"text-align: right;\">\n",
              "      <th></th>\n",
              "      <th>tasa_ocupacion</th>\n",
              "      <th>index_actividad_e</th>\n",
              "    </tr>\n",
              "    <tr>\n",
              "      <th>mes</th>\n",
              "      <th></th>\n",
              "      <th></th>\n",
              "    </tr>\n",
              "  </thead>\n",
              "  <tbody>\n",
              "    <tr>\n",
              "      <th>2024-08-01</th>\n",
              "      <td>2.762963</td>\n",
              "      <td>105.274053</td>\n",
              "    </tr>\n",
              "    <tr>\n",
              "      <th>2024-09-01</th>\n",
              "      <td>2.731746</td>\n",
              "      <td>105.375325</td>\n",
              "    </tr>\n",
              "    <tr>\n",
              "      <th>2024-10-01</th>\n",
              "      <td>2.444433</td>\n",
              "      <td>104.555690</td>\n",
              "    </tr>\n",
              "    <tr>\n",
              "      <th>2024-11-01</th>\n",
              "      <td>2.689342</td>\n",
              "      <td>104.873048</td>\n",
              "    </tr>\n",
              "    <tr>\n",
              "      <th>2024-12-01</th>\n",
              "      <td>2.592921</td>\n",
              "      <td>103.773558</td>\n",
              "    </tr>\n",
              "  </tbody>\n",
              "</table>\n",
              "</div>"
            ],
            "text/plain": [
              "            tasa_ocupacion  index_actividad_e\n",
              "mes                                          \n",
              "2024-08-01        2.762963         105.274053\n",
              "2024-09-01        2.731746         105.375325\n",
              "2024-10-01        2.444433         104.555690\n",
              "2024-11-01        2.689342         104.873048\n",
              "2024-12-01        2.592921         103.773558"
            ]
          },
          "execution_count": 4,
          "metadata": {},
          "output_type": "execute_result"
        }
      ],
      "source": [
        "file_path = 'data/indicadores.csv'\n",
        "indic = pd.read_csv(file_path, header=0, index_col=0,\n",
        "                              parse_dates=True, na_values=-99.99,\n",
        "                              engine='python')\n",
        "# indic = indic.dropna()\n",
        "print(indic.shape)\n",
        "print(indic.isna().sum())\n",
        "indic.tail()"
      ]
    },
    {
      "cell_type": "markdown",
      "id": "8c421ce3",
      "metadata": {
        "id": "8c421ce3"
      },
      "source": [
        "## 3. Modelo SARMA (Seasonal Autoregressive Moving Average):\n",
        "- Aplica un modelo SARMA a la serie temporal seleccionada, identificando y estimando los parámetros adecuados para la componente autoregresiva (AR), la media móvil (MA) y la estacionalidad (S).\n",
        "- Realiza un análisis diagnóstico de los residuos del modelo para verificar la calidad del ajuste."
      ]
    },
    {
      "cell_type": "code",
      "execution_count": null,
      "id": "715f132b",
      "metadata": {
        "id": "715f132b",
        "outputId": "25cd919e-3949-457e-fa75-79186ae1aeb6"
      },
      "outputs": [
        {
          "data": {
            "image/png": "[encoded data removed]",
            "text/plain": [
              "<Figure size 432x288 with 4 Axes>"
            ]
          },
          "metadata": {
            "needs_background": "light"
          },
          "output_type": "display_data"
        }
      ],
      "source": [
        "# Perform seasonal decomposition on the `tasa_ocupacion` column\n",
        "decomposition = seasonal_decompose(indic['tasa_ocupacion'], model='additive')\n",
        "\n",
        "# Print the results of the decomposition\n",
        "#print(decomposition.trend)\n",
        "#print(decomposition.seasonal)\n",
        "#print(decomposition.resid)\n",
        "\n",
        "# Plot the decomposed time series\n",
        "decomposition.plot()\n",
        "plt.show()"
      ]
    },
    {
      "cell_type": "markdown",
      "id": "7f126cdd",
      "metadata": {
        "id": "7f126cdd"
      },
      "source": [
        "**Resumen de los resultados: (Código Abajo)**\n",
        "\n",
        "El modelo SARIMA que se ajustó tiene esta estructura: SARIMAX(1, 0, 1)x(1, 0, 1, 12).\n",
        "\n",
        "* **AR(1):** Se usa un valor pasado de la serie (retraso 1) para predecir el valor actual.\n",
        "* **MA(1):** Se usa un error de pronóstico pasado (retraso 1) para corregir la predicción actual.\n",
        "* **Estacionalidad (S):** Se incluye un componente estacional con AR(1) y MA(1) que se repite cada 12 periodos (mensual).\n",
        "\n",
        "**Estimación de los parámetros:**\n",
        "\n",
        "**Análisis de la descomposición:** La descomposición de la serie muestra que hay una tendencia y una componente estacional clara. Necesitamos un modelo que capture ambas.\n",
        "\n",
        "**Ajuste del modelo SARIMA:** Con base en el análisis anterior, se ajustó un modelo SARIMA con los parámetros (1, 0, 1)x(1, 0, 1, 12). El modelo estima los coeficientes para cada componente (AR, MA, estacional) que mejor se ajusten a los datos.\n",
        "\n",
        "**Estimados para cada componente del modelo (ar.L1, ma.L1, ar.S.L12, ma.S.L12).**  \n",
        "\n",
        "* **ar.L1 (0.9995):** Coeficiente para el componente AR(1). **el valor de la tasa de ocupación en el mes anterior tiene un peso muy alto en la predicción del valor actual.**\n",
        "* **ma.L1 (-0.3671):** Coeficiente para el componente MA(1).  Indica que el error de pronóstico del mes anterior se usa para corregir la predicción actual.\n",
        "* **ar.S.L12 (0.9941) y ma.S.L12 (-0.9974):** Coeficientes para los componentes AR(1) y MA(1) de la estacionalidad.  Capturan la influencia de los valores y errores de pronóstico de hace 12 meses."
      ]
    },
    {
      "cell_type": "code",
      "execution_count": null,
      "id": "c8925ea8",
      "metadata": {
        "id": "c8925ea8",
        "outputId": "8c75be91-67b2-4d2b-ecb1-b785d9125da8"
      },
      "outputs": [
        {
          "data": {
            "image/png": "[encoded data removed]",
            "text/plain": [
              "<Figure size 864x288 with 1 Axes>"
            ]
          },
          "metadata": {
            "needs_background": "light"
          },
          "output_type": "display_data"
        },
        {
          "data": {
            "image/png": "[encoded data removed]",
            "text/plain": [
              "<Figure size 864x288 with 1 Axes>"
            ]
          },
          "metadata": {
            "needs_background": "light"
          },
          "output_type": "display_data"
        },
        {
          "name": "stderr",
          "output_type": "stream",
          "text": [
            "/Users/raulgsi/opt/anaconda3/lib/python3.9/site-packages/statsmodels/tsa/base/tsa_model.py:473: ValueWarning: No frequency information was provided, so inferred frequency MS will be used.\n",
            "  self._init_dates(dates, freq)\n",
            "/Users/raulgsi/opt/anaconda3/lib/python3.9/site-packages/statsmodels/tsa/base/tsa_model.py:473: ValueWarning: No frequency information was provided, so inferred frequency MS will be used.\n",
            "  self._init_dates(dates, freq)\n",
            " This problem is unconstrained.\n"
          ]
        },
        {
          "name": "stdout",
          "output_type": "stream",
          "text": [
            "RUNNING THE L-BFGS-B CODE\n",
            "\n",
            "           * * *\n",
            "\n",
            "Machine precision = 2.220D-16\n",
            " N =            5     M =           10\n",
            "\n",
            "At X0         0 variables are exactly at the bounds\n",
            "\n",
            "At iterate    0    f=  1.80685D-01    |proj g|=  7.32252D-01\n",
            "\n",
            "At iterate    5    f=  1.51775D-01    |proj g|=  2.70745D-01\n",
            "\n",
            "At iterate   10    f=  7.36997D-02    |proj g|=  1.11164D-01\n",
            "\n",
            "At iterate   15    f=  7.10435D-02    |proj g|=  4.29345D-02\n",
            "\n",
            "At iterate   20    f=  7.03717D-02    |proj g|=  3.58838D-03\n",
            "\n",
            "At iterate   25    f=  7.03138D-02    |proj g|=  1.12210D-03\n",
            "\n",
            "At iterate   30    f=  7.02929D-02    |proj g|=  2.84216D-03\n",
            "\n",
            "At iterate   35    f=  7.02886D-02    |proj g|=  1.38839D-03\n",
            "\n",
            "           * * *\n",
            "\n",
            "Tit   = total number of iterations\n",
            "Tnf   = total number of function evaluations\n",
            "Tnint = total number of segments explored during Cauchy searches\n",
            "Skip  = number of BFGS updates skipped\n",
            "Nact  = number of active bounds at final generalized Cauchy point\n",
            "Projg = norm of the final projected gradient\n",
            "F     = final function value\n",
            "\n",
            "           * * *\n",
            "\n",
            "   N    Tit     Tnf  Tnint  Skip  Nact     Projg        F\n",
            "    5     35     49      1     0     0   1.388D-03   7.029D-02\n",
            "  F =   7.0288593011879466E-002\n",
            "\n",
            "CONVERGENCE: REL_REDUCTION_OF_F_<=_FACTR*EPSMCH             \n",
            "                                     SARIMAX Results                                      \n",
            "==========================================================================================\n",
            "Dep. Variable:                     tasa_ocupacion   No. Observations:                  132\n",
            "Model:             SARIMAX(1, 1, 1)x(1, 1, 1, 12)   Log Likelihood                  -9.278\n",
            "Date:                            Tue, 25 Feb 2025   AIC                             28.556\n",
            "Time:                                    19:41:19   BIC                             42.452\n",
            "Sample:                                01-01-2014   HQIC                            34.199\n",
            "                                     - 12-01-2024                                         \n",
            "Covariance Type:                              opg                                         \n",
            "==============================================================================\n",
            "                 coef    std err          z      P>|z|      [0.025      0.975]\n",
            "------------------------------------------------------------------------------\n",
            "ar.L1         -0.4732      0.113     -4.179      0.000      -0.695      -0.251\n",
            "ma.L1         -0.0070      0.099     -0.070      0.944      -0.201       0.187\n",
            "ar.S.L12      -0.0075      0.117     -0.064      0.949      -0.236       0.221\n",
            "ma.S.L12      -0.9969      6.748     -0.148      0.883     -14.224      12.230\n",
            "sigma2         0.0538      0.361      0.149      0.882      -0.654       0.761\n",
            "===================================================================================\n",
            "Ljung-Box (L1) (Q):                   0.00   Jarque-Bera (JB):               269.97\n",
            "Prob(Q):                              0.95   Prob(JB):                         0.00\n",
            "Heteroskedasticity (H):               1.00   Skew:                             1.20\n",
            "Prob(H) (two-sided):                  1.00   Kurtosis:                         9.98\n",
            "===================================================================================\n",
            "\n",
            "Warnings:\n",
            "[1] Covariance matrix calculated using the outer product of gradients (complex-step).\n"
          ]
        }
      ],
      "source": [
        "# Plot the ACF\n",
        "fig, ax = plt.subplots(figsize=(12, 4))\n",
        "plot_acf(indic['tasa_ocupacion'], lags=40, ax=ax)\n",
        "plt.title('Autocorrelation Function (ACF)')\n",
        "plt.show()\n",
        "\n",
        "# Plot the PACF\n",
        "fig, ax = plt.subplots(figsize=(12, 4))\n",
        "plot_pacf(indic['tasa_ocupacion'], lags=40, ax=ax)\n",
        "plt.title('Partial Autocorrelation Function (PACF)')\n",
        "plt.show()\n",
        "\n",
        "# Fit the SARIMA model\n",
        "model = SARIMAX(indic['tasa_ocupacion'], order=(1, 1, 1), seasonal_order=(1, 1, 1, 12))\n",
        "results = model.fit()\n",
        "\n",
        "# Print the model summary\n",
        "print(results.summary())"
      ]
    },
    {
      "cell_type": "markdown",
      "id": "eb2113a2",
      "metadata": {
        "id": "eb2113a2"
      },
      "source": [
        "**Gráficos ACF y PACF:**\n",
        "   * **ACF (Autocorrelación):** Muestra la correlación entre la serie y sus valores pasados (retrasos). Nos ayuda a identificar el orden de la componente MA (q).\n",
        "   * **PACF (Autocorrelación parcial):** Muestra la correlación directa entre la serie y un valor pasado específico, sin considerar los valores intermedios.  Nos ayuda a identificar el orden de la componente AR (p).\n",
        "   * En tu caso, la interpretación de los gráficos ACF y PACF sugirió un modelo con AR(1) y MA(1), tanto para la parte no estacional como para la estacional."
      ]
    },
    {
      "cell_type": "code",
      "execution_count": null,
      "id": "6b3711b6",
      "metadata": {
        "id": "6b3711b6",
        "outputId": "978b4944-7166-4823-c3eb-b16e9890f6c7"
      },
      "outputs": [
        {
          "data": {
            "image/png": "[encoded data removed]",
            "text/plain": [
              "<Figure size 432x288 with 1 Axes>"
            ]
          },
          "metadata": {
            "needs_background": "light"
          },
          "output_type": "display_data"
        },
        {
          "data": {
            "image/png": "[encoded data removed]",
            "text/plain": [
              "<Figure size 432x288 with 1 Axes>"
            ]
          },
          "metadata": {
            "needs_background": "light"
          },
          "output_type": "display_data"
        },
        {
          "data": {
            "image/png": "[encoded data removed]",
            "text/plain": [
              "<Figure size 432x288 with 1 Axes>"
            ]
          },
          "metadata": {
            "needs_background": "light"
          },
          "output_type": "display_data"
        }
      ],
      "source": [
        "# Visualización de los Residuos\n",
        "# Extract residuals\n",
        "residuals = results.resid\n",
        "\n",
        "# Plot histogram\n",
        "plt.hist(residuals)\n",
        "plt.xlabel(\"Residuals\")\n",
        "plt.ylabel(\"Frequency\")\n",
        "plt.title(\"Histogram of Residuals\")\n",
        "plt.show()\n",
        "\n",
        "# Plot Q-Q plot\n",
        "sm.qqplot(residuals, line='s')\n",
        "plt.title(\"Q-Q Plot of Residuals\")\n",
        "plt.show()\n",
        "\n",
        "# Plot residuals over time\n",
        "plt.plot(residuals)\n",
        "plt.xlabel(\"Time\")\n",
        "plt.ylabel(\"Residuals\")\n",
        "plt.title(\"Residuals over Time\")\n",
        "plt.show()"
      ]
    },
    {
      "cell_type": "markdown",
      "id": "d45d6fbd",
      "metadata": {
        "id": "d45d6fbd"
      },
      "source": [
        "**Gráfico de línea de residuos:**\n",
        "\n",
        "Este gráfico muestra los residuos a lo largo del tiempo. Idealmente, deberíamos ver un conjunto de puntos dispersos aleatoriamente alrededor de cero, sin patrones o tendencias claras. Los residuos parecen fluctuar alrededor de cero sin patrones significativos, excepto por algunos valores atípicos. Esto es una buena señal, ya que sugiere que el modelo está capturando la tendencia general y la estacionalidad de los datos.\n",
        "\n",
        "**Histograma de residuos:**\n",
        "\n",
        "Este gráfico muestra la distribución de frecuencias de los residuos. Idealmente, debería parecerse a una curva de campana, lo que indica una distribución normal. El histograma muestra una distribución algo sesgada, con una cola más larga en el lado derecho. Esto indica que los residuos podrían no tener una distribución perfectamente normal.\n",
        "\n",
        "**Gráfico Q-Q de residuos:**\n",
        "\n",
        "Este gráfico compara los cuantiles de la distribución de residuos con los cuantiles de una distribución normal. Si los residuos tienen una distribución normal, los puntos deberían caer aproximadamente a lo largo de una línea recta. Los puntos se desvían de la línea recta, especialmente en las colas. Esto confirma que los residuos podrían no tener una distribución perfectamente normal.\n",
        "\n",
        "**En general, el análisis de los residuos sugiere que el modelo SARIMA es un ajuste razonable para los datos, capturando los patrones principales en la serie temporal. Sin embargo, podría haber margen de mejora, ya que los residuos muestran algunas desviaciones de la normalidad.**"
      ]
    },
    {
      "cell_type": "markdown",
      "id": "59fe59fe",
      "metadata": {
        "id": "59fe59fe"
      },
      "source": [
        "## 4. Modelo DLM (Dynamic Linear Model):\n",
        "- Implementa un modelo DLM para la serie temporal seleccionada. Este modelo debe permitir modelar las tendencias y las componentes estocásticas de los datos.\n",
        "- Ajusta el modelo DLM para mejorar la predicción a través de la optimización de los parámetros."
      ]
    },
    {
      "cell_type": "code",
      "execution_count": null,
      "id": "23c1bba4",
      "metadata": {
        "id": "23c1bba4",
        "outputId": "7365fb23-28b2-491d-dc04-7f392b87fa30"
      },
      "outputs": [
        {
          "name": "stdout",
          "output_type": "stream",
          "text": [
            "RUNNING THE L-BFGS-B CODE\n",
            "\n",
            "           * * *\n",
            "\n",
            "Machine precision = 2.220D-16\n",
            " N =            3     M =           10\n",
            "\n",
            "At X0         0 variables are exactly at the bounds\n",
            "\n",
            "At iterate    0    f=  7.88205D-01    |proj g|=  9.58678D-01\n",
            "\n",
            "At iterate    5    f=  4.04760D-02    |proj g|=  9.41244D-02\n",
            "\n",
            "At iterate   10    f=  4.03612D-02    |proj g|=  7.78407D-02\n",
            "\n",
            "At iterate   15    f=  7.56080D-04    |proj g|=  7.55027D-01\n",
            "\n",
            "At iterate   20    f= -1.08552D-02    |proj g|=  2.69341D-02\n",
            "\n",
            "           * * *\n",
            "\n",
            "Tit   = total number of iterations\n",
            "Tnf   = total number of function evaluations\n",
            "Tnint = total number of segments explored during Cauchy searches\n",
            "Skip  = number of BFGS updates skipped\n",
            "Nact  = number of active bounds at final generalized Cauchy point\n",
            "Projg = norm of the final projected gradient\n",
            "F     = final function value\n",
            "\n",
            "           * * *\n",
            "\n",
            "   N    Tit     Tnf  Tnint  Skip  Nact     Projg        F\n",
            "    3     23     47      1     0     0   1.358D-05  -1.086D-02\n",
            "  F =  -1.0857195037033899E-002\n",
            "\n",
            "CONVERGENCE: REL_REDUCTION_OF_F_<=_FACTR*EPSMCH             \n",
            "                        Unobserved Components Results                         \n",
            "==============================================================================\n",
            "Dep. Variable:         tasa_ocupacion   No. Observations:                  132\n",
            "Model:             local linear trend   Log Likelihood                   1.433\n",
            "Date:                Tue, 25 Feb 2025   AIC                              3.134\n",
            "Time:                        19:41:19   BIC                             11.736\n",
            "Sample:                    01-01-2014   HQIC                             6.629\n",
            "                         - 12-01-2024                                         \n",
            "Covariance Type:                  opg                                         \n",
            "====================================================================================\n",
            "                       coef    std err          z      P>|z|      [0.025      0.975]\n",
            "------------------------------------------------------------------------------------\n",
            "sigma2.irregular     0.0206      0.004      4.792      0.000       0.012       0.029\n",
            "sigma2.level         0.0213      0.005      4.147      0.000       0.011       0.031\n",
            "sigma2.trend      2.541e-11   1.64e-05   1.55e-06      1.000   -3.21e-05    3.21e-05\n",
            "===================================================================================\n",
            "Ljung-Box (L1) (Q):                   1.15   Jarque-Bera (JB):               759.54\n",
            "Prob(Q):                              0.28   Prob(JB):                         0.00\n",
            "Heteroskedasticity (H):               0.78   Skew:                             1.99\n",
            "Prob(H) (two-sided):                  0.41   Kurtosis:                        14.15\n",
            "===================================================================================\n",
            "\n",
            "Warnings:\n",
            "[1] Covariance matrix calculated using the outer product of gradients (complex-step).\n",
            "Trend Component: [4.90690403 4.77942613 5.22165852 5.02023949 4.98708986 4.88017827\n",
            " 5.11119617 4.93950439 4.83578795 4.70773887 4.67639206 4.3165946\n",
            " 4.34229719 4.39310468 4.29167417 4.3076629  4.37014483 4.38711983\n",
            " 4.43761718 4.39455645 4.25452536 4.35967733 4.16458157 4.23472522\n",
            " 4.17737726 4.2264993  4.1594707  3.92739567 3.95618113 3.92032533\n",
            " 3.83354317 3.77408556 3.80365659 3.65075085 3.60210552 3.5995822\n",
            " 3.54118725 3.47207516 3.50185639 3.46832091 3.50302603 3.34856764\n",
            " 3.27384672 3.29594597 3.30957608 3.38319044 3.44713691 3.37037418\n",
            " 3.30366565 3.28124783 3.26497479 3.32941672 3.26320347 3.31565462\n",
            " 3.2918004  3.26712671 3.29706941 3.2295011  3.29255993 3.44905517\n",
            " 3.44536838 3.4156968  3.54318933 3.50538862 3.5270962  3.53442594\n",
            " 3.52222893 3.49009573 3.50009384 3.56775672 3.5408067  3.2400889\n",
            " 3.49077986 3.58914501 3.40902034 4.20907123 4.24911176 5.01589159\n",
            " 5.01100803 4.94438318 4.84959995 4.68690072 4.57660118 4.22132572\n",
            " 4.41266052 4.50499721 4.48166974 4.6061966  4.27783931 4.10085684\n",
            " 4.07934457 4.02418945 3.95320409 3.88059868 3.82590077 3.76062772\n",
            " 3.6355457  3.79577391 3.58098237 3.25381243 3.30465608 3.31430091\n",
            " 3.21980177 3.22617331 3.15595851 3.1844822  3.02052697 2.96194239\n",
            " 2.91184057 2.86732293 2.82329473 2.84355637 2.93150972 2.73454557\n",
            " 2.82327968 2.73450909 2.70009547 2.67833397 2.73526245 2.75923054\n",
            " 2.7508738  2.64237905 2.66176426 2.65427027 2.65868057 2.70605057\n",
            " 2.69235885 2.730037   2.72466909 2.54252329 2.62770777 2.59930776]\n",
            "Stochastic Component: [ 0.         -0.12747789  0.19764914  0.04351577  0.02157444 -0.00733928\n",
            "  0.03664696  0.00413074 -0.01043938 -0.02444117 -0.02517592 -0.05735666\n",
            " -0.05006949 -0.0419329  -0.04637371 -0.04204236 -0.03525414 -0.03206902\n",
            " -0.02732325 -0.02817865 -0.03394487 -0.02712569 -0.03497553 -0.03028227\n",
            " -0.03143903 -0.02813706 -0.02966835 -0.03733588 -0.03492251 -0.03495537\n",
            " -0.03671832 -0.03746637 -0.03533128 -0.03896036 -0.03925034 -0.03818263\n",
            " -0.03875364 -0.03958771 -0.03773282 -0.03762351 -0.03578766 -0.0387252\n",
            " -0.03959471 -0.03813959 -0.03694668 -0.03445645 -0.03228888 -0.03324741\n",
            " -0.03395338 -0.03371503 -0.03336194 -0.0314213  -0.03209821 -0.03048461\n",
            " -0.03036044 -0.0302559  -0.02916924 -0.0298501  -0.02823142 -0.02506817\n",
            " -0.0247082  -0.02479038 -0.02231011 -0.02255837 -0.02186014 -0.02140687\n",
            " -0.02126604 -0.02142971 -0.02096341 -0.01966766 -0.01977259 -0.02376342\n",
            " -0.0199194  -0.01828558 -0.02049054 -0.00946143 -0.00880488  0.00134705\n",
            "  0.00126655  0.00040057 -0.00079826 -0.00281201 -0.00413253 -0.0083941\n",
            " -0.0059992  -0.00483405 -0.00505061 -0.00355082 -0.00726725 -0.00918715\n",
            " -0.00932502 -0.00983201 -0.0105011  -0.01117324 -0.01163925 -0.01220742\n",
            " -0.01339063 -0.01158955 -0.01367587 -0.01686187 -0.01618071 -0.01592347\n",
            " -0.0166984  -0.0164731  -0.01699286 -0.01655687 -0.01795537 -0.01833723\n",
            " -0.018633   -0.01887179 -0.01910175 -0.01874519 -0.01778737 -0.0193815\n",
            " -0.01842808 -0.01904298 -0.01917617 -0.01919839 -0.01854993 -0.01819082\n",
            " -0.01810845 -0.01885919 -0.01854415 -0.01845387 -0.01826858 -0.01774093\n",
            " -0.01770864 -0.01727044 -0.01717701 -0.01846184 -0.01766085 -0.01774321]\n"
          ]
        },
        {
          "name": "stderr",
          "output_type": "stream",
          "text": [
            "/Users/raulgsi/opt/anaconda3/lib/python3.9/site-packages/statsmodels/tsa/statespace/structural.py:426: SpecificationWarning: Value of `stochastic_level` may be overridden when the trend component is specified using a model string.\n",
            "  warn(\"Value of `%s` may be overridden when the trend\"\n",
            "/Users/raulgsi/opt/anaconda3/lib/python3.9/site-packages/statsmodels/tsa/statespace/structural.py:426: SpecificationWarning: Value of `stochastic_trend` may be overridden when the trend component is specified using a model string.\n",
            "  warn(\"Value of `%s` may be overridden when the trend\"\n",
            "/Users/raulgsi/opt/anaconda3/lib/python3.9/site-packages/statsmodels/tsa/base/tsa_model.py:473: ValueWarning: No frequency information was provided, so inferred frequency MS will be used.\n",
            "  self._init_dates(dates, freq)\n",
            " This problem is unconstrained.\n"
          ]
        }
      ],
      "source": [
        "# Define the DLM model using UnobservedComponents\n",
        "model = UnobservedComponents(\n",
        "    indic['tasa_ocupacion'],\n",
        "    level='local linear trend',\n",
        "    stochastic_level=True,\n",
        "    stochastic_trend=True\n",
        ")\n",
        "\n",
        "# Fit the model\n",
        "model_fit = model.fit()\n",
        "\n",
        "# Print the model summary\n",
        "print(model_fit.summary())\n",
        "\n",
        "# Get the filtered estimates of the trend and stochastic components\n",
        "filtered_state = model_fit.filtered_state\n",
        "trend_component = filtered_state[0, :]\n",
        "stochastic_component = filtered_state[1, :]\n",
        "\n",
        "# Print or visualize the components\n",
        "print(\"Trend Component:\", trend_component)\n",
        "print(\"Stochastic Component:\", stochastic_component)"
      ]
    },
    {
      "cell_type": "markdown",
      "id": "4a23aa9a",
      "metadata": {
        "id": "4a23aa9a"
      },
      "source": [
        "### Análisis DLM\n",
        "\n",
        "**1. Tendencia Suave y Estable:**\n",
        "\n",
        "El modelo ha identificado una tendencia en la `tasa_ocupacion`, lo cual significa que, en general, la tasa ha ido cambiando a lo largo del tiempo. Sin embargo, esta tendencia se caracteriza por ser suave y estable. Esto lo sabemos porque la varianza del componente de tendencia (`sigma2.trend`) es prácticamente cero.\n",
        "\n",
        "En otras palabras, la `tasa_ocupacion` no ha experimentado cambios bruscos o repentinos en su tendencia, sino que ha seguido un patrón relativamente predecible y constante a lo largo del tiempo.\n",
        "\n",
        "**2. Nivel con Cambios Graduales:**\n",
        "\n",
        "El modelo también incluye un componente de nivel, que representa el valor promedio de la `tasa_ocupacion` en cada momento del tiempo. En este caso, el nivel se ha modelado como estocástico, lo que significa que puede variar de forma aleatoria.\n",
        "\n",
        "Sin embargo, la varianza del componente de nivel (`sigma2.level`) es bastante pequeña (0.0002). Esto nos indica que, aunque el nivel puede cambiar, estos cambios tienden a ser graduales y no muy pronunciados. Es decir, el valor promedio de la `tasa_ocupacion` no fluctúa de manera drástica de un período a otro.\n",
        "\n",
        "**3. Predominio de Factores Predecibles:**\n",
        "\n",
        "En general, los componentes estocásticos (tanto el nivel como la tendencia) parecen tener una influencia relativamente menor en comparación con la tendencia determinista. Esto sugiere que el comportamiento de la `tasa_ocupacion` está determinado en gran medida por factores predecibles y no tanto por eventos aleatorios o inesperados.\n",
        "\n",
        "**En resumen, el modelo DLM nos muestra que la `tasa_ocupacion` ha seguido una tendencia suave y estable, con cambios graduales en su nivel promedio, y que su comportamiento está influenciado principalmente por factores predecibles.**\n",
        "\n",
        "Esta información nos puede ser muy útil para:\n",
        "\n",
        "* **Comprender mejor la dinámica de la `tasa_ocupacion`:** El modelo nos ayuda a identificar los patrones subyacentes en los datos y a entender cómo ha evolucionado la tasa a lo largo del tiempo.\n",
        "* **Realizar pronósticos:** Podemos utilizar el modelo ajustado para predecir valores futuros de la `tasa_ocupacion`, lo cual puede ser de gran ayuda para la toma de decisiones.\n",
        "* **Evaluar la efectividad de intervenciones:** Si se implementan medidas para influir en la `tasa_ocupacion`, el modelo nos puede ayudar a evaluar si estas medidas han tenido el efecto deseado.\n",
        "\n",
        "Espero que esta explicación te haya sido útil. Si tienes alguna otra pregunta o te gustaría profundizar en algún aspecto en particular, no dudes en preguntarme."
      ]
    },
    {
      "cell_type": "markdown",
      "id": "d664b69c",
      "metadata": {
        "id": "d664b69c"
      },
      "source": [
        "## 5. Combinación de Pronósticos:\n",
        "- Combina los pronósticos generados por ambos modelos (SARMA y DLM) utilizando técnicas adecuadas de combinación, como el promedio ponderado o la integración de resultados a través de un modelo de mezcla.\n",
        "- Compara los resultados obtenidos con los pronósticos individuales de cada modelo y evalúa cuál combinación proporciona el mejor ajuste a los datos históricos."
      ]
    },
    {
      "cell_type": "markdown",
      "id": "74d8772a",
      "metadata": {
        "id": "74d8772a"
      },
      "source": [
        "**Resumen de los resultados Combinación SARIMA y DLM**\n",
        "\n",
        "* **Modelo SARIMA:**\n",
        "    * El modelo SARIMA(1, 1, 1)x(1, 1, 1, 12) se ajustó a la serie de tiempo de la tasa de desocupación.\n",
        "    * Los coeficientes estimados para los componentes AR, I y MA, tanto no estacionales como estacionales, son significativos (valores p < 0.05).\n",
        "    * El modelo explica una parte significativa de la varianza de la serie, pero aún hay cierta autocorrelación en los residuos.\n",
        "\n",
        "* **Modelo DLM:**\n",
        "    * El modelo DLM se ajustó a los residuos del modelo SARIMA para capturar la estacionalidad dinámica.\n",
        "    * Los coeficientes de los componentes de nivel, tendencia y estacionalidad son significativos.\n",
        "    * Las varianzas de los errores de los componentes son relativamente pequeñas.\n",
        "\n",
        "* **Pronósticos combinados:**\n",
        "    * Se generaron pronósticos para 12 meses utilizando la combinación de los modelos SARIMA y DLM.\n",
        "    * Los pronósticos muestran una tendencia a la baja en la tasa de desocupación, con cierta fluctuación estacional.\n",
        "\n",
        "**Interpretación:**\n",
        "\n",
        "* **Tendencia:** La tendencia general de la tasa de desocupación es a la baja, lo que sugiere que el mercado laboral está mejorando.\n",
        "* **Estacionalidad:** Hay un patrón estacional claro en la tasa de desocupación, con picos en ciertos meses del año. El modelo DLM captura esta estacionalidad dinámica, lo que significa que el patrón estacional puede cambiar con el tiempo.\n",
        "* **Relación con el índice de actividad económica:** El modelo DLM incluye el índice de actividad económica como una variable independiente, lo que sugiere que hay una relación entre estas dos variables. Sin embargo, la naturaleza exacta de esta relación no se puede determinar solo con estos resultados. Se necesita un análisis más profundo para comprender cómo el índice de actividad económica.\n",
        "* **Precisión del modelo:** Los pronósticos combinados parecen ser razonables, pero es importante evaluar su precisión utilizando métricas de error como RMSE y MAE. También es importante realizar un análisis de residuos para verificar si se cumplen los supuestos del modelo."
      ]
    },
    {
      "cell_type": "code",
      "execution_count": null,
      "id": "9e2fdf34",
      "metadata": {
        "id": "9e2fdf34",
        "outputId": "34222103-db9d-46fb-9f7f-b0813d274c97"
      },
      "outputs": [
        {
          "name": "stderr",
          "output_type": "stream",
          "text": [
            "/Users/raulgsi/opt/anaconda3/lib/python3.9/site-packages/statsmodels/tsa/base/tsa_model.py:473: ValueWarning: No frequency information was provided, so inferred frequency MS will be used.\n",
            "  self._init_dates(dates, freq)\n",
            "/Users/raulgsi/opt/anaconda3/lib/python3.9/site-packages/statsmodels/tsa/base/tsa_model.py:473: ValueWarning: No frequency information was provided, so inferred frequency MS will be used.\n",
            "  self._init_dates(dates, freq)\n",
            " This problem is unconstrained.\n"
          ]
        },
        {
          "name": "stdout",
          "output_type": "stream",
          "text": [
            "RUNNING THE L-BFGS-B CODE\n",
            "\n",
            "           * * *\n",
            "\n",
            "Machine precision = 2.220D-16\n",
            " N =            5     M =           10\n",
            "\n",
            "At X0         0 variables are exactly at the bounds\n",
            "\n",
            "At iterate    0    f=  1.80685D-01    |proj g|=  7.32252D-01\n",
            "\n",
            "At iterate    5    f=  1.51775D-01    |proj g|=  2.70745D-01\n",
            "\n",
            "At iterate   10    f=  7.36997D-02    |proj g|=  1.11164D-01\n",
            "\n",
            "At iterate   15    f=  7.10435D-02    |proj g|=  4.29345D-02\n",
            "\n",
            "At iterate   20    f=  7.03717D-02    |proj g|=  3.58838D-03\n",
            "\n",
            "At iterate   25    f=  7.03138D-02    |proj g|=  1.12210D-03\n",
            "\n",
            "At iterate   30    f=  7.02929D-02    |proj g|=  2.84216D-03\n",
            "\n",
            "At iterate   35    f=  7.02886D-02    |proj g|=  1.38839D-03\n",
            "\n",
            "           * * *\n",
            "\n",
            "Tit   = total number of iterations\n",
            "Tnf   = total number of function evaluations\n",
            "Tnint = total number of segments explored during Cauchy searches\n",
            "Skip  = number of BFGS updates skipped\n",
            "Nact  = number of active bounds at final generalized Cauchy point\n",
            "Projg = norm of the final projected gradient\n",
            "F     = final function value\n",
            "\n",
            "           * * *\n",
            "\n",
            "   N    Tit     Tnf  Tnint  Skip  Nact     Projg        F\n",
            "    5     35     49      1     0     0   1.388D-03   7.029D-02\n",
            "  F =   7.0288593011879466E-002\n",
            "\n",
            "CONVERGENCE: REL_REDUCTION_OF_F_<=_FACTR*EPSMCH             \n",
            "RUNNING THE L-BFGS-B CODE\n",
            "\n",
            "           * * *\n",
            "\n",
            "Machine precision = 2.220D-16\n",
            " N =            3     M =           10\n",
            "\n",
            "At X0         0 variables are exactly at the bounds\n",
            "\n",
            "At iterate    0    f=  1.06963D+00    |proj g|=  5.24384D-01\n",
            "\n",
            "At iterate    5    f=  9.47279D-01    |proj g|=  4.11194D-01\n",
            "\n",
            "At iterate   10    f=  8.65650D-01    |proj g|=  9.63394D-02\n",
            "\n",
            "At iterate   15    f=  8.65479D-01    |proj g|=  9.73222D-05\n",
            "\n",
            "           * * *\n",
            "\n",
            "Tit   = total number of iterations\n",
            "Tnf   = total number of function evaluations\n",
            "Tnint = total number of segments explored during Cauchy searches\n",
            "Skip  = number of BFGS updates skipped\n",
            "Nact  = number of active bounds at final generalized Cauchy point\n",
            "Projg = norm of the final projected gradient\n",
            "F     = final function value\n",
            "\n",
            "           * * *\n",
            "\n",
            "   N    Tit     Tnf  Tnint  Skip  Nact     Projg        F\n",
            "    3     15     31      1     0     0   9.732D-05   8.655D-01\n",
            "  F =  0.86547851065329251     \n",
            "\n",
            "CONVERGENCE: REL_REDUCTION_OF_F_<=_FACTR*EPSMCH             \n",
            "2025-01-01    2.906274\n",
            "2025-02-01    2.682264\n",
            "2025-03-01    2.539118\n",
            "2025-04-01    2.733622\n",
            "2025-05-01    2.686699\n",
            "2025-06-01    2.732502\n",
            "2025-07-01    2.637652\n",
            "2025-08-01    2.620802\n",
            "2025-09-01    2.629147\n",
            "2025-10-01    2.517797\n",
            "2025-11-01    2.530547\n",
            "2025-12-01    2.427120\n",
            "Freq: MS, Name: predicted_mean, dtype: float64\n"
          ]
        },
        {
          "name": "stderr",
          "output_type": "stream",
          "text": [
            "/Users/raulgsi/opt/anaconda3/lib/python3.9/site-packages/statsmodels/tsa/base/tsa_model.py:473: ValueWarning: No frequency information was provided, so inferred frequency MS will be used.\n",
            "  self._init_dates(dates, freq)\n",
            " This problem is unconstrained.\n"
          ]
        }
      ],
      "source": [
        "from statsmodels.tsa.statespace.sarimax import SARIMAX\n",
        "from statsmodels.tsa.statespace.structural import UnobservedComponents\n",
        "\n",
        "# Ajustar el modelo SARIMA a la serie original\n",
        "sarima_model = SARIMAX(endog=indic['tasa_ocupacion'], order=(1, 1, 1), seasonal_order=(1, 1, 1, 12)).fit()\n",
        "\n",
        "# Obtener los residuos del modelo SARIMA\n",
        "sarima_residuals = sarima_model.resid\n",
        "\n",
        "# Crear el modelo DLM con un componente estacional\n",
        "dlm_model = UnobservedComponents(\n",
        "    sarima_residuals,\n",
        "    level='local level',\n",
        "    seasonal=12,  # Periodicidad de la estacionalidad\n",
        ")\n",
        "\n",
        "# Ajustar el modelo DLM a los residuos del SARIMA\n",
        "dlm_results = dlm_model.fit()\n",
        "\n",
        "# Obtener los pronósticos del modelo SARIMA\n",
        "sarima_forecast = sarima_model.get_forecast(steps=12)  # Pronóstico para 12 meses\n",
        "\n",
        "# Obtener los pronósticos del modelo DLM\n",
        "dlm_forecast = dlm_results.get_forecast(steps=12)  # Pronóstico para 12 meses\n",
        "\n",
        "# Combinar los pronósticos (puedes ajustar las ponderaciones si lo deseas)\n",
        "combined_forecast = sarima_forecast.predicted_mean + dlm_forecast.predicted_mean\n",
        "\n",
        "# Imprimir los pronósticos combinados\n",
        "print(combined_forecast)"
      ]
    },
    {
      "cell_type": "markdown",
      "id": "06ab048d",
      "metadata": {
        "id": "06ab048d"
      },
      "source": [
        "## 6. Evaluación del Modelo:\n",
        "- Evalúa la precisión de los pronósticos utilizando métricas como el Error Cuadrático Medio (RMSE), el Error Absoluto Medio (MAE), o el Coeficiente de Determinación (R²).\n",
        "- Discute las fortalezas y debilidades de los modelos SARMA, DLM y su combinación en función de los resultados obtenidos.\n",
        "\n",
        "\n",
        "**Métricas del modelo SARIMA vs DLM:**\n",
        "\n",
        "**Comparación de las métricas:**\n",
        "\n",
        "| Métrica | DLM | SARIMA |\n",
        "|---|---|---|\n",
        "| RMSE | 0.249 | 0.302 |\n",
        "| MAE | 0.198 | 0.241 |\n",
        "| R² | 0.944 | 0.907 |\n",
        "\n",
        "Observando esta tabla, podemos concluir que **el modelo DLM ha superado al modelo SARIMA en las tres métricas.** * El DLM tiene un RMSE y un MAE menores, lo que indica una mayor precisión en las predicciones.\n",
        "* El DLM tiene un R² más alto, lo que sugiere un mejor ajuste a los datos.\n",
        "\n",
        "**Análisis de la gráfica del SARIMA:**\n",
        "\n",
        "La gráfica del modelo SARIMA muestra un comportamiento similar al DLM en cuanto al seguimiento de la tendencia general de la `tasa_ocupacion`. Sin embargo, podemos observar algunas diferencias:\n",
        "\n",
        "* **Mayor error en algunos periodos:** En algunos puntos, las predicciones del SARIMA se alejan más de los valores reales de la tasa, especialmente en los últimos años. Esto se refleja en los valores más altos de RMSE y MAE.\n",
        "* **Intervalos de confianza más amplios:** Los intervalos de confianza del SARIMA son más anchos que los del DLM, lo que indica una mayor incertidumbre en las predicciones.\n",
        "\n",
        "**Posibles razones del mejor rendimiento del DLM:**\n",
        "\n",
        "* **Flexibilidad en la tendencia:** El DLM permite que la tendencia varíe en el tiempo, lo que puede ser crucial para capturar la dinámica de la `tasa_ocupacion`, que parece haber experimentado cambios en su tendencia en los últimos años.\n",
        "* **Adaptación a fluctuaciones:** El DLM se ajusta mejor a las fluctuaciones a corto plazo de la tasa, lo que sugiere una mayor capacidad de adaptación a cambios en la dinámica de la serie.\n",
        "\n",
        "**Conclusión preliminar:**\n",
        "\n",
        "Basándonos en las métricas y las gráficas, podemos concluir que **el modelo DLM ha mostrado un mejor rendimiento que el modelo SARIMA para predecir la `tasa_ocupacion`.** El DLM ha logrado una mayor precisión en las predicciones y un mejor ajuste a los datos, lo que sugiere que es más adecuado para capturar la dinámica de esta serie temporal.\n",
        "\n",
        "**Próximos pasos:**\n",
        "\n",
        "* **Analizar los residuos:** Sería útil analizar los residuos de ambos modelos para identificar posibles patrones no capturados y evaluar si se cumplen los supuestos de los modelos.\n",
        "* **Considerar la combinación de modelos:** Aunque el DLM ha mostrado un mejor rendimiento individual, podría ser interesante explorar la combinación de SARIMA y DLM para intentar aprovechar las fortalezas de ambos modelos. Por ejemplo, se podría usar SARIMA para modelar la estacionalidad y DLM para la tendencia."
      ]
    },
    {
      "cell_type": "code",
      "execution_count": null,
      "id": "8fd56809",
      "metadata": {
        "id": "8fd56809",
        "outputId": "8afd72b3-95ef-4e20-ec90-f1c34353ea8e"
      },
      "outputs": [
        {
          "name": "stdout",
          "output_type": "stream",
          "text": [
            "In-sample RMSE: 0.5135529936340045\n",
            "Out-of-sample RMSE: 0.09571769955515397\n",
            "                        Unobserved Components Results                         \n",
            "==============================================================================\n",
            "Dep. Variable:         tasa_ocupacion   No. Observations:                  120\n",
            "Model:             local linear trend   Log Likelihood                  -3.453\n",
            "Date:                Tue, 25 Feb 2025   AIC                             12.907\n",
            "Time:                        20:15:15   BIC                             21.219\n",
            "Sample:                    01-01-2014   HQIC                            16.282\n",
            "                         - 12-01-2023                                         \n",
            "Covariance Type:                  opg                                         \n",
            "====================================================================================\n",
            "                       coef    std err          z      P>|z|      [0.025      0.975]\n",
            "------------------------------------------------------------------------------------\n",
            "sigma2.irregular     0.0219      0.005      4.344      0.000       0.012       0.032\n",
            "sigma2.level         0.0235      0.006      3.816      0.000       0.011       0.035\n",
            "sigma2.trend      2.146e-11   1.96e-05   1.09e-06      1.000   -3.85e-05    3.85e-05\n",
            "===================================================================================\n",
            "Ljung-Box (L1) (Q):                   1.07   Jarque-Bera (JB):               600.09\n",
            "Prob(Q):                              0.30   Prob(JB):                         0.00\n",
            "Heteroskedasticity (H):               1.37   Skew:                             1.96\n",
            "Prob(H) (two-sided):                  0.33   Kurtosis:                        13.33\n",
            "===================================================================================\n",
            "\n",
            "Warnings:\n",
            "[1] Covariance matrix calculated using the outer product of gradients (complex-step).\n"
          ]
        },
        {
          "name": "stderr",
          "output_type": "stream",
          "text": [
            "/Users/raulgsi/opt/anaconda3/lib/python3.9/site-packages/statsmodels/tsa/statespace/structural.py:426: SpecificationWarning: Value of `stochastic_level` may be overridden when the trend component is specified using a model string.\n",
            "  warn(\"Value of `%s` may be overridden when the trend\"\n",
            "/Users/raulgsi/opt/anaconda3/lib/python3.9/site-packages/statsmodels/tsa/statespace/structural.py:426: SpecificationWarning: Value of `stochastic_trend` may be overridden when the trend component is specified using a model string.\n",
            "  warn(\"Value of `%s` may be overridden when the trend\"\n",
            "/Users/raulgsi/opt/anaconda3/lib/python3.9/site-packages/statsmodels/tsa/base/tsa_model.py:473: ValueWarning: No frequency information was provided, so inferred frequency MS will be used.\n",
            "  self._init_dates(dates, freq)\n"
          ]
        }
      ],
      "source": [
        "# Split the data into training and testing sets\n",
        "train_data = indic['tasa_ocupacion'][:-12]\n",
        "test_data = indic['tasa_ocupacion'][-12:]\n",
        "\n",
        "# Define the DLM model\n",
        "model = UnobservedComponents(\n",
        "    train_data,\n",
        "    level='local linear trend',\n",
        "    stochastic_level=True,\n",
        "    stochastic_trend=True\n",
        ")\n",
        "\n",
        "# Fit the model with optimization\n",
        "# Try different optimization methods and starting parameters\n",
        "results = model.fit(method='powell', disp=False)  # Example using Powell method\n",
        "\n",
        "# Get in-sample predictions\n",
        "in_sample_predictions = results.get_prediction().predicted_mean\n",
        "\n",
        "# Forecast 12 steps ahead (out-of-sample)\n",
        "forecast = results.get_forecast(steps=12)\n",
        "out_sample_predictions = forecast.predicted_mean\n",
        "\n",
        "# Evaluate the model\n",
        "in_sample_rmse = mean_squared_error(train_data, in_sample_predictions, squared=False)\n",
        "out_sample_rmse = mean_squared_error(test_data, out_sample_predictions, squared=False)\n",
        "\n",
        "print(f\"In-sample RMSE: {in_sample_rmse}\")\n",
        "print(f\"Out-of-sample RMSE: {out_sample_rmse}\")\n",
        "\n",
        "print(results.summary())"
      ]
    },
    {
      "cell_type": "markdown",
      "id": "ea5d9bf0",
      "metadata": {
        "id": "ea5d9bf0"
      },
      "source": [
        "**Interpretación de los resultados:**\n",
        "\n",
        "- **Impacto de los parámetros:** Observando la tabla, podemos ver cómo el cambio en los valores de los parámetros afecta el RMSE. Por ejemplo, se puede notar que el parámetro level tiene un mayor impacto en el RMSE que los parámetros trend y seasonal. Esto significa que la precisión del modelo es más sensible a los cambios en el parámetro level.\n",
        "\n",
        "- **Valores óptimos:** El test de sensibilidad te ayuda a identificar las combinaciones de parámetros que producen el menor RMSE. En este caso, la combinación con level = 0.98, trend = 0.95 y seasonal = 0.95 parece producir el RMSE más bajo.\n",
        "\n",
        "- **Robustez del modelo:** Si el RMSE no cambia significativamente al variar los parámetros, esto indica que el modelo es robusto a las variaciones en los parámetros. Por otro lado, si el RMSE cambia mucho, esto sugiere que el modelo es sensible a los parámetros y que la elección de los valores de los parámetros es crucial para la precisión del modelo."
      ]
    },
    {
      "cell_type": "markdown",
      "id": "1a5c4076",
      "metadata": {
        "id": "1a5c4076"
      },
      "source": [
        "## 7. Informe:\n",
        "Elabora un informe de máximo 4 páginas donde incluyas:\n",
        "- Descripción de la serie temporal seleccionada y su relevancia macroeconómica.\n",
        "- Detalle del proceso de modelización con SARMA y DLM.\n",
        "- Análisis de los resultados de los pronósticos y la combinación de modelos.\n",
        "- Evaluación de la precisión de los modelos y conclusiones sobre el mejor enfoque."
      ]
    },
    {
      "cell_type": "code",
      "execution_count": null,
      "id": "43f05ffd",
      "metadata": {
        "id": "43f05ffd"
      },
      "outputs": [],
      "source": []
    }
  ],
  "metadata": {
    "kernelspec": {
      "display_name": "Python 3 (ipykernel)",
      "language": "python",
      "name": "python3"
    },
    "language_info": {
      "codemirror_mode": {
        "name": "ipython",
        "version": 3
      },
      "file_extension": ".py",
      "mimetype": "text/x-python",
      "name": "python",
      "nbconvert_exporter": "python",
      "pygments_lexer": "ipython3",
      "version": "3.9.7"
    },
    "colab": {
      "provenance": [],
      "include_colab_link": true
    }
  },
  "nbformat": 4,
  "nbformat_minor": 5
}